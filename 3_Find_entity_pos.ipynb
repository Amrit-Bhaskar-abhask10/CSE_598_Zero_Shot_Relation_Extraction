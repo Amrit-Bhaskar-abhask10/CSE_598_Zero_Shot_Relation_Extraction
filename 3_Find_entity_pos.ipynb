{
 "cells": [
  {
   "cell_type": "code",
   "execution_count": 1,
   "id": "85d54db5-6275-4be8-9082-458ef95aa420",
   "metadata": {},
   "outputs": [],
   "source": [
    "import re"
   ]
  },
  {
   "cell_type": "code",
   "execution_count": 2,
   "id": "43ffd8e9-cbb1-498b-ad56-51e2a092ff42",
   "metadata": {},
   "outputs": [],
   "source": [
    "f1 = open('data/train_shuffle_pos.txt','w')\n",
    "with open('data/train_shuffle.txt','r') as f:\n",
    "    for line in f:\n",
    "            rel , e1, e2, sent = line.split(\"\\t\")\n",
    "            temp_sent = sent.lower()\n",
    "            temp_e1 = e1.lower().strip(\".\")\n",
    "            temp_e2 = e2.lower().strip(\".\")\n",
    "            a1 = re.search(r'\\b({})\\b'.format(temp_e1), temp_sent)\n",
    "            a2 = re.search(r'\\b({})\\b'.format(temp_e2), temp_sent)\n",
    "            prev_str1 = temp_sent[:a1.start()-1]\n",
    "            prev_str2 = temp_sent[:a2.start()-1]\n",
    "            e1_pos = len(prev_str1.split(\" \"))\n",
    "            e2_pos = len(prev_str2.split(\" \"))\n",
    "            f1.write(rel + \"\\t\" + str(e1_pos) + \"\\t\" + str(e2_pos) + \"\\t\" + sent)\n",
    "f1.close()"
   ]
  },
  {
   "cell_type": "code",
   "execution_count": 3,
   "id": "6a029aec-ea5f-4e76-9c36-7e2ad5785d3d",
   "metadata": {},
   "outputs": [],
   "source": [
    "f1 = open('data/test_pos.txt','w')\n",
    "with open('data/test.txt','r') as f:\n",
    "    for line in f:\n",
    "            rel , e1, e2, sent = line.split(\"\\t\")\n",
    "            temp_sent = sent.lower()\n",
    "            temp_e1 = e1.lower().strip(\".\")\n",
    "            temp_e2 = e2.lower().strip(\".\")\n",
    "            a1 = re.search(r'\\b({})\\b'.format(temp_e1), temp_sent)\n",
    "            a2 = re.search(r'\\b({})\\b'.format(temp_e2), temp_sent)\n",
    "            prev_str1 = temp_sent[:a1.start()-1]\n",
    "            prev_str2 = temp_sent[:a2.start()-1]\n",
    "            e1_pos = len(prev_str1.split(\" \"))\n",
    "            e2_pos = len(prev_str2.split(\" \"))\n",
    "            f1.write(rel + \"\\t\" + str(e1_pos) + \"\\t\" + str(e2_pos) + \"\\t\" + sent)\n",
    "f1.close()"
   ]
  },
  {
   "cell_type": "code",
   "execution_count": null,
   "id": "b6746c3d-1a16-4bbf-b8b9-38015a531fe7",
   "metadata": {},
   "outputs": [],
   "source": []
  }
 ],
 "metadata": {
  "kernelspec": {
   "display_name": "Python 3 (ipykernel)",
   "language": "python",
   "name": "python3"
  },
  "language_info": {
   "codemirror_mode": {
    "name": "ipython",
    "version": 3
   },
   "file_extension": ".py",
   "mimetype": "text/x-python",
   "name": "python",
   "nbconvert_exporter": "python",
   "pygments_lexer": "ipython3",
   "version": "3.8.11"
  }
 },
 "nbformat": 4,
 "nbformat_minor": 5
}
