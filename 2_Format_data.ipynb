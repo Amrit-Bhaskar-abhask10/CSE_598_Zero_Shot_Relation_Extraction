{
 "cells": [
  {
   "cell_type": "code",
   "execution_count": 1,
   "id": "95a51506-b02f-4ca8-bf01-cf8fd9c95e37",
   "metadata": {},
   "outputs": [],
   "source": [
    "import pickle\n",
    "import random\n",
    "\n",
    "random.seed(0)"
   ]
  },
  {
   "cell_type": "code",
   "execution_count": 2,
   "id": "3915666a-200d-4a00-8f81-1fc803981b9f",
   "metadata": {},
   "outputs": [],
   "source": [
    "with open('data/existing_class_data.pickle', 'rb') as handle:\n",
    "    dict_existing_class = pickle.load(handle)\n",
    "\n",
    "with open('data/emerging_class_data.pickle', 'rb') as handle:\n",
    "    dict_emerging_class = pickle.load(handle)"
   ]
  },
  {
   "cell_type": "code",
   "execution_count": 3,
   "id": "9ee4ffe7-a527-4736-a98b-14b7a1ada29b",
   "metadata": {},
   "outputs": [],
   "source": [
    "minimum_count = 999999"
   ]
  },
  {
   "cell_type": "code",
   "execution_count": 4,
   "id": "22c3bffb-b445-4996-9d1d-1fb7d523c145",
   "metadata": {},
   "outputs": [
    {
     "name": "stdout",
     "output_type": "stream",
     "text": [
      "/location/location/contains 75969\n",
      "/people/person/nationality 11444\n",
      "/people/person/place_lived 9827\n",
      "/people/deceased_person/place_of_death 2541\n",
      "/location/country/administrative_divisions 8860\n",
      "/location/neighborhood/neighborhood_of 9472\n",
      "/location/administrative_division/country 8860\n"
     ]
    }
   ],
   "source": [
    "for k,v in dict_existing_class.items():\n",
    "    if(len(v) < minimum_count):\n",
    "        minimum_count = len(v)\n",
    "    print(k, len(v))"
   ]
  },
  {
   "cell_type": "code",
   "execution_count": 5,
   "id": "b1389d79-1d3e-4a50-bc87-de4b4091df60",
   "metadata": {},
   "outputs": [
    {
     "name": "stdout",
     "output_type": "stream",
     "text": [
      "/location/country/capital 11216\n",
      "/people/person/place_of_birth 4265\n"
     ]
    }
   ],
   "source": [
    "for k,v in dict_emerging_class.items():\n",
    "    if(len(v) < minimum_count):\n",
    "        minimum_count = len(v)\n",
    "    print(k, len(v))"
   ]
  },
  {
   "cell_type": "code",
   "execution_count": 6,
   "id": "3d068207-92d1-4804-a469-90b854ca6648",
   "metadata": {},
   "outputs": [
    {
     "data": {
      "text/plain": [
       "2541"
      ]
     },
     "execution_count": 6,
     "metadata": {},
     "output_type": "execute_result"
    }
   ],
   "source": [
    "minimum_count"
   ]
  },
  {
   "cell_type": "code",
   "execution_count": 7,
   "id": "13cff7d4-819f-4d43-a2c8-af0b01b8f36f",
   "metadata": {},
   "outputs": [],
   "source": [
    "for k,v in dict_existing_class.items():\n",
    "    dict_existing_class[k] = random.sample(dict_existing_class[k], minimum_count)\n",
    "\n",
    "for k,v in dict_emerging_class.items():\n",
    "    dict_emerging_class[k] = random.sample(dict_emerging_class[k], minimum_count)"
   ]
  },
  {
   "cell_type": "code",
   "execution_count": 8,
   "id": "4d5b01dd-34b5-4bf3-8a61-c4341a090b4d",
   "metadata": {},
   "outputs": [
    {
     "name": "stdout",
     "output_type": "stream",
     "text": [
      "/location/location/contains 2541\n",
      "/people/person/nationality 2541\n",
      "/people/person/place_lived 2541\n",
      "/people/deceased_person/place_of_death 2541\n",
      "/location/country/administrative_divisions 2541\n",
      "/location/neighborhood/neighborhood_of 2541\n",
      "/location/administrative_division/country 2541\n",
      "/location/country/capital 2541\n",
      "/people/person/place_of_birth 2541\n"
     ]
    }
   ],
   "source": [
    "for k,v in dict_existing_class.items():\n",
    "    print(k, len(v))\n",
    "\n",
    "for k,v in dict_emerging_class.items():\n",
    "    print(k, len(v))"
   ]
  },
  {
   "cell_type": "code",
   "execution_count": 9,
   "id": "ae17fa03-dbcb-428e-961f-b7ab9f75d30d",
   "metadata": {},
   "outputs": [],
   "source": [
    "existing_classes = ['/location/location/contains',\n",
    "'/people/person/nationality',\n",
    "'/people/person/place_lived',\n",
    "'/people/deceased_person/place_of_death',\n",
    "'/location/country/administrative_divisions',\n",
    "'/location/neighborhood/neighborhood_of',\n",
    "'/location/administrative_division/country']\n",
    "emerging_classes = ['/location/country/capital','/people/person/place_of_birth']"
   ]
  },
  {
   "cell_type": "code",
   "execution_count": 10,
   "id": "a5d82387-2803-47e1-b9be-b07331d8ca21",
   "metadata": {},
   "outputs": [],
   "source": [
    "training_list = []\n",
    "for k, v in dict_existing_class.items():\n",
    "    for it in v:\n",
    "        s = it['rel'].split(\"/\")[-1].strip()\n",
    "        s = s.split(\"_\")\n",
    "        s = \" \".join(s)\n",
    "        e1 = it['sub'].strip().split(\"_\")\n",
    "        e1 = \" \".join(e1)\n",
    "        e2 = it['obj'].strip().split(\"_\")\n",
    "        e2 = \" \".join(e2)\n",
    "        sentence = it['sent'].strip().split(\"_\")\n",
    "        sentence = \" \".join(sentence)\n",
    "        s += \"\\t\" + e1 + \"\\t\" + e2 + \"\\t\" + sentence + \"\\n\"\n",
    "        training_list.append(s)"
   ]
  },
  {
   "cell_type": "code",
   "execution_count": 11,
   "id": "57075a17-420f-4519-aa6f-daecfcb66753",
   "metadata": {},
   "outputs": [],
   "source": [
    "test_list = []\n",
    "for k, v in dict_emerging_class.items():\n",
    "    for it in v:\n",
    "        s = it['rel'].split(\"/\")[-1].strip()\n",
    "        s = s.split(\"_\")\n",
    "        s = \" \".join(s)\n",
    "        e1 = it['sub'].strip().split(\"_\")\n",
    "        e1 = \" \".join(e1)\n",
    "        e2 = it['obj'].strip().split(\"_\")\n",
    "        e2 = \" \".join(e2)\n",
    "        sentence = it['sent'].strip().split(\"_\")\n",
    "        sentence = \" \".join(sentence)\n",
    "        s += \"\\t\" + e1 + \"\\t\" + e2 + \"\\t\" + sentence + \"\\n\"\n",
    "        test_list.append(s)"
   ]
  },
  {
   "cell_type": "code",
   "execution_count": 12,
   "id": "20ebe2f1-cc2c-4c73-bc61-17b66c98740a",
   "metadata": {},
   "outputs": [],
   "source": [
    "# test_list = []\n",
    "# for k, v in dict_emerging_class.items():\n",
    "#     for it in v:\n",
    "#         s = it['rel'].split(\"/\")[-1].strip()\n",
    "#         s = s.split(\"_\")\n",
    "#         s = \" \".join(s)\n",
    "#         s += \"\\t\" + it['sub'].strip() + \"\\t\" + it['obj'].strip() + \"\\t\" + it['sent'].strip() + \"\\n\"\n",
    "#         test_list.append(s)"
   ]
  },
  {
   "cell_type": "code",
   "execution_count": 13,
   "id": "3a6f4a42-e1bd-439e-a1dd-922799534f87",
   "metadata": {},
   "outputs": [
    {
     "data": {
      "text/plain": [
       "'contains\\tconnecticut\\tbridgeport\\tConnecticut in particular has sought to turn the curse of blight into a virtue , seeking , in places like Bridgeport , to resurrect brownfield sites and abandoned buildings for housing .\\n'"
      ]
     },
     "execution_count": 13,
     "metadata": {},
     "output_type": "execute_result"
    }
   ],
   "source": [
    "training_list[0]"
   ]
  },
  {
   "cell_type": "code",
   "execution_count": 14,
   "id": "d8422b91-4e6c-4588-93d3-d18c59c9cdc4",
   "metadata": {},
   "outputs": [
    {
     "data": {
      "text/plain": [
       "\"capital\\tisrael\\tjerusalem\\tA Wilf family history on the Web site of Yad Vashem , Israel 's national Holocaust memorial in Jerusalem -LRB- the family is a benefactor -RRB- , says the Russians deported Wilf 's father , his two siblings and his parents from Poland to a Siberian labor camp .\\n\""
      ]
     },
     "execution_count": 14,
     "metadata": {},
     "output_type": "execute_result"
    }
   ],
   "source": [
    "test_list[0]"
   ]
  },
  {
   "cell_type": "code",
   "execution_count": 15,
   "id": "a20e0f41-be2d-477d-b6cc-bb3be443fb58",
   "metadata": {},
   "outputs": [],
   "source": [
    "training_list_shuffled = random.sample(training_list, len(training_list))"
   ]
  },
  {
   "cell_type": "code",
   "execution_count": 16,
   "id": "dae11a70-6802-463f-a68f-28593fb1dd0a",
   "metadata": {},
   "outputs": [],
   "source": [
    "training_data_path = \"data/train_shuffle.txt\"\n",
    "test_data_path = \"data/test.txt\"\n",
    "\n",
    "textfile = open(training_data_path, \"w\")\n",
    "for element in training_list_shuffled:\n",
    "    textfile.write(element)\n",
    "textfile.close()\n",
    "\n",
    "textfile = open(test_data_path, \"w\")\n",
    "for element in test_list:\n",
    "    textfile.write(element)\n",
    "textfile.close()"
   ]
  },
  {
   "cell_type": "markdown",
   "id": "393fd4a6-444a-4161-93a9-0cba66153c61",
   "metadata": {},
   "source": [
    "*end*"
   ]
  },
  {
   "cell_type": "code",
   "execution_count": 17,
   "id": "e82d55cb-0013-4bf4-8a9b-28e21b03700e",
   "metadata": {},
   "outputs": [
    {
     "data": {
      "text/plain": [
       "'country\\ttaiwan\\tchina\\tThe resolution , which is nonbinding but reflective of European public opinion , was sharply critical of China for adopting legislation recently that would require China to go to war in the event of significant moves by Taiwan toward independence .\\n'"
      ]
     },
     "execution_count": 17,
     "metadata": {},
     "output_type": "execute_result"
    }
   ],
   "source": [
    "training_list_shuffled[0]"
   ]
  },
  {
   "cell_type": "code",
   "execution_count": 10,
   "id": "6af7fe0f-eff8-4c20-95c1-2a49ccf1e1ab",
   "metadata": {},
   "outputs": [],
   "source": [
    "from sklearn.model_selection import train_test_split"
   ]
  },
  {
   "cell_type": "code",
   "execution_count": 11,
   "id": "2d06a916-cf09-4ced-8660-ef7fed5e73e6",
   "metadata": {},
   "outputs": [],
   "source": [
    "train_dict_existing_class = {}\n",
    "train_dict_emerging_class = {}\n",
    "\n",
    "dev_dict_existing_class = {}\n",
    "dev_dict_emerging_class = {}\n",
    "\n",
    "for k,v in dict_existing_class.items():\n",
    "    v1, v2 = train_test_split(v, test_size=0.2, shuffle=True)\n",
    "    train_dict_existing_class[k] = v1\n",
    "    dev_dict_existing_class[k] = v2\n",
    "\n",
    "for k,v in dict_emerging_class.items():\n",
    "    v1, v2 = train_test_split(v, test_size=0.2, shuffle=True)\n",
    "    train_dict_emerging_class[k] = v1\n",
    "    dev_dict_emerging_class[k] = v2"
   ]
  },
  {
   "cell_type": "code",
   "execution_count": 12,
   "id": "feece290-2232-402f-87b7-54e84234459a",
   "metadata": {},
   "outputs": [
    {
     "name": "stdout",
     "output_type": "stream",
     "text": [
      "/location/location/contains 2032\n",
      "/people/person/nationality 2032\n",
      "/people/person/place_lived 2032\n",
      "/people/deceased_person/place_of_death 2032\n",
      "/location/country/administrative_divisions 2032\n",
      "/location/neighborhood/neighborhood_of 2032\n",
      "/location/administrative_division/country 2032\n",
      "/location/country/capital 2032\n",
      "/people/person/place_of_birth 2032\n",
      "/location/location/contains 509\n",
      "/people/person/nationality 509\n",
      "/people/person/place_lived 509\n",
      "/people/deceased_person/place_of_death 509\n",
      "/location/country/administrative_divisions 509\n",
      "/location/neighborhood/neighborhood_of 509\n",
      "/location/administrative_division/country 509\n",
      "/location/country/capital 509\n",
      "/people/person/place_of_birth 509\n"
     ]
    }
   ],
   "source": [
    "for k,v in train_dict_existing_class.items():\n",
    "    print(k, len(v))\n",
    "\n",
    "for k,v in train_dict_emerging_class.items():\n",
    "    print(k, len(v))\n",
    "    \n",
    "for k,v in dev_dict_existing_class.items():\n",
    "    print(k, len(v))\n",
    "\n",
    "for k,v in dev_dict_emerging_class.items():\n",
    "    print(k, len(v))"
   ]
  },
  {
   "cell_type": "code",
   "execution_count": null,
   "id": "10792730-6696-48bb-bbd5-70f2a3083acf",
   "metadata": {},
   "outputs": [],
   "source": []
  },
  {
   "cell_type": "code",
   "execution_count": null,
   "id": "a1d44863-2165-404a-9c70-32705cf32156",
   "metadata": {},
   "outputs": [],
   "source": []
  }
 ],
 "metadata": {
  "kernelspec": {
   "display_name": "Python 3 (ipykernel)",
   "language": "python",
   "name": "python3"
  },
  "language_info": {
   "codemirror_mode": {
    "name": "ipython",
    "version": 3
   },
   "file_extension": ".py",
   "mimetype": "text/x-python",
   "name": "python",
   "nbconvert_exporter": "python",
   "pygments_lexer": "ipython3",
   "version": "3.8.11"
  }
 },
 "nbformat": 4,
 "nbformat_minor": 5
}
