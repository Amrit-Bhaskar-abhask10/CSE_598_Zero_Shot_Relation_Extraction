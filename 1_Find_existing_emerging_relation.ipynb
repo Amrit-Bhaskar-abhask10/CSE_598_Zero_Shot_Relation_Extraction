{
 "cells": [
  {
   "cell_type": "code",
   "execution_count": 1,
   "id": "9803a7fc-ae6b-4736-a51e-2b983f25e2d8",
   "metadata": {},
   "outputs": [],
   "source": [
    "import json\n",
    "\n",
    "f = open(\"NYT/dataset_triples_train.json\")\n",
    "\n",
    "data = json.load(f)"
   ]
  },
  {
   "cell_type": "code",
   "execution_count": 2,
   "id": "c22111b7-ae72-46ea-98cb-c959b57083d5",
   "metadata": {},
   "outputs": [
    {
     "data": {
      "text/plain": [
       "dict_keys(['data'])"
      ]
     },
     "execution_count": 2,
     "metadata": {},
     "output_type": "execute_result"
    }
   ],
   "source": [
    "data.keys()"
   ]
  },
  {
   "cell_type": "code",
   "execution_count": 3,
   "id": "2fffc167-4d34-40e4-bfa6-2f96ea11cecd",
   "metadata": {},
   "outputs": [
    {
     "data": {
      "text/plain": [
       "570084"
      ]
     },
     "execution_count": 3,
     "metadata": {},
     "output_type": "execute_result"
    }
   ],
   "source": [
    "len(data['data'])"
   ]
  },
  {
   "cell_type": "code",
   "execution_count": 4,
   "id": "cd817fce-aa37-4f09-9075-162d8efafa49",
   "metadata": {},
   "outputs": [
    {
     "data": {
      "text/plain": [
       "{'rel': '/location/location/contains',\n",
       " 'sub_id': 'm.0ccvx',\n",
       " 'obj_id': 'm.05gf08',\n",
       " 'sub': 'queens',\n",
       " 'obj': 'belle_harbor',\n",
       " 'sent': 'Sen. Charles E. Schumer called on federal safety officials yesterday to reopen their investigation into the fatal crash of a passenger jet in Belle Harbor , Queens , because equipment failure , not pilot error , might have been the cause .',\n",
       " 'rsent': 'Sen. Charles E. Schumer called on federal safety officials yesterday to reopen their investigation into the fatal crash of a passenger jet in Belle Harbor , Queens , because equipment failure , not pilot error , might have been the cause .'}"
      ]
     },
     "execution_count": 4,
     "metadata": {},
     "output_type": "execute_result"
    }
   ],
   "source": [
    "data['data'][0]"
   ]
  },
  {
   "cell_type": "code",
   "execution_count": 5,
   "id": "65d4124d-c711-4ae7-bbdd-eaa3573e6765",
   "metadata": {},
   "outputs": [],
   "source": [
    "rel = []\n",
    "for itr_data in data['data']:\n",
    "    rel.append(itr_data['rel'])"
   ]
  },
  {
   "cell_type": "code",
   "execution_count": 6,
   "id": "7b190d0c-6c2a-46ed-bb86-ad6df647d716",
   "metadata": {},
   "outputs": [
    {
     "data": {
      "text/plain": [
       "['/location/location/contains',\n",
       " '/location/location/contains',\n",
       " '/location/location/contains',\n",
       " '/location/location/contains',\n",
       " '/location/location/contains']"
      ]
     },
     "execution_count": 6,
     "metadata": {},
     "output_type": "execute_result"
    }
   ],
   "source": [
    "rel[:5]"
   ]
  },
  {
   "cell_type": "code",
   "execution_count": 7,
   "id": "ecf37396-bc7d-433e-bab1-acbe8abdc54b",
   "metadata": {},
   "outputs": [],
   "source": [
    "from collections import Counter\n",
    "relation_count = Counter(rel)"
   ]
  },
  {
   "cell_type": "code",
   "execution_count": 8,
   "id": "f9a32d34-abc9-4913-ac02-6d226f68f09c",
   "metadata": {},
   "outputs": [
    {
     "data": {
      "text/plain": [
       "Counter({'/location/location/contains': 75969,\n",
       "         '/people/person/nationality': 11444,\n",
       "         '/people/person/place_of_birth': 4265,\n",
       "         '/people/person/place_lived': 9827,\n",
       "         '/business/company/founders': 1061,\n",
       "         '/people/deceased_person/place_of_death': 2541,\n",
       "         '/business/person/company': 7987,\n",
       "         '/location/us_county/county_seat': 110,\n",
       "         '/business/company/place_founded': 677,\n",
       "         '/location/cn_province/capital': 2,\n",
       "         '/film/film/featured_film_locations': 18,\n",
       "         '/people/person/children': 677,\n",
       "         '/location/country/administrative_divisions': 8860,\n",
       "         '/location/neighborhood/neighborhood_of': 9472,\n",
       "         '/location/province/capital': 39,\n",
       "         '/location/country/capital': 11216,\n",
       "         '/people/ethnicity/included_in_group': 7,\n",
       "         '/people/place_of_interment/interred_here': 24,\n",
       "         '/location/administrative_division/country': 8860,\n",
       "         '/time/event/locations': 4,\n",
       "         '/location/de_state/capital': 7,\n",
       "         '/location/us_state/capital': 798,\n",
       "         '/business/company_advisor/companies_advised': 2,\n",
       "         '/people/person/religion': 206,\n",
       "         '/people/deceased_person/place_of_burial': 24,\n",
       "         '/location/br_state/capital': 4,\n",
       "         '/people/person/ethnicity': 190,\n",
       "         '/sports/sports_team/location': 311,\n",
       "         '/broadcast/content/location': 8,\n",
       "         '/film/film_festival/location': 4,\n",
       "         '/location/it_region/capital': 22,\n",
       "         '/location/jp_prefecture/capital': 2,\n",
       "         '/business/shopping_center_owner/shopping_centers_owned': 1,\n",
       "         '/people/person/profession': 10,\n",
       "         '/location/in_state/administrative_capital': 4,\n",
       "         '/location/in_state/legislative_capital': 4,\n",
       "         '/business/company/major_shareholders': 439,\n",
       "         '/location/in_state/judicial_capital': 3,\n",
       "         '/business/company/advisors': 51,\n",
       "         '/business/business_location/parent_company': 19,\n",
       "         '/people/family/members': 4,\n",
       "         '/film/film_location/featured_in_films': 18,\n",
       "         '/people/family/country': 6,\n",
       "         '/business/company/locations': 19,\n",
       "         '/people/ethnicity/includes_groups': 7,\n",
       "         '/location/fr_region/capital': 1,\n",
       "         '/people/profession/people_with_this_profession': 2,\n",
       "         '/broadcast/producer/location': 71,\n",
       "         '/location/mx_state/capital': 1,\n",
       "         '/people/ethnicity/geographic_distribution': 630,\n",
       "         '/business/shopping_center/owner': 1,\n",
       "         'NA': 413424,\n",
       "         '/sports/sports_team_location/teams': 247,\n",
       "         '/people/ethnicity/people': 169,\n",
       "         '/business/company_shareholder/major_shareholder_of': 309,\n",
       "         '/business/company/industry': 6})"
      ]
     },
     "execution_count": 8,
     "metadata": {},
     "output_type": "execute_result"
    }
   ],
   "source": [
    "relation_count"
   ]
  },
  {
   "cell_type": "code",
   "execution_count": 9,
   "id": "3087ed23-1e7b-4994-bc7f-785d4939d2ac",
   "metadata": {},
   "outputs": [],
   "source": [
    "relation_dict = {}\n",
    "for k in relation_count.keys():\n",
    "    relation_dict[k] = []"
   ]
  },
  {
   "cell_type": "code",
   "execution_count": 10,
   "id": "4c7e2319-9f4c-4fa1-9974-dac447d8d8de",
   "metadata": {},
   "outputs": [],
   "source": [
    "for itr_data in data['data']:\n",
    "    relation_dict[itr_data['rel']].append(itr_data)"
   ]
  },
  {
   "cell_type": "code",
   "execution_count": 11,
   "id": "14c6fcfd-95dd-419a-9153-137bf3c28915",
   "metadata": {},
   "outputs": [
    {
     "name": "stdout",
     "output_type": "stream",
     "text": [
      "/location/location/contains 75969\n",
      "/people/person/nationality 11444\n",
      "/people/person/place_of_birth 4265\n",
      "/people/person/place_lived 9827\n",
      "/people/deceased_person/place_of_death 2541\n",
      "/business/person/company 7987\n",
      "/location/country/administrative_divisions 8860\n",
      "/location/neighborhood/neighborhood_of 9472\n",
      "/location/country/capital 11216\n",
      "/location/administrative_division/country 8860\n",
      "NA 413424\n"
     ]
    }
   ],
   "source": [
    "for k in relation_dict.keys():\n",
    "    if(len(relation_dict[k])>2000):\n",
    "        print(k, len(relation_dict[k]))"
   ]
  },
  {
   "cell_type": "code",
   "execution_count": 12,
   "id": "cdda785a-8ff6-4bae-85a0-7a6cb4ae295c",
   "metadata": {},
   "outputs": [],
   "source": [
    "existing_classes = ['/location/location/contains',\n",
    "'/people/person/nationality',\n",
    "'/people/person/place_lived',\n",
    "'/people/deceased_person/place_of_death',\n",
    "'/location/country/administrative_divisions',\n",
    "'/location/neighborhood/neighborhood_of',\n",
    "'/location/administrative_division/country']\n",
    "emerging_classes = ['/location/country/capital','/people/person/place_of_birth']"
   ]
  },
  {
   "cell_type": "code",
   "execution_count": 13,
   "id": "ee40cb84-f224-4d49-9c02-209f63715cd4",
   "metadata": {},
   "outputs": [],
   "source": [
    "dict_existing_class = {}\n",
    "dict_emerging_class = {}\n",
    "\n",
    "for e in existing_classes:\n",
    "    dict_existing_class[e] = []\n",
    "    \n",
    "for e in emerging_classes:\n",
    "    dict_emerging_class[e] = []"
   ]
  },
  {
   "cell_type": "code",
   "execution_count": 14,
   "id": "22be8569-7618-4111-971e-2a0617f1245f",
   "metadata": {},
   "outputs": [],
   "source": [
    "for itr_data in data['data']:\n",
    "    if itr_data['rel'] in existing_classes:\n",
    "        dict_existing_class[itr_data['rel']].append(itr_data)\n",
    "    if itr_data['rel'] in emerging_classes:\n",
    "        dict_emerging_class[itr_data['rel']].append(itr_data)"
   ]
  },
  {
   "cell_type": "code",
   "execution_count": 15,
   "id": "abb70152-06d5-46a2-8663-118c9c83d8de",
   "metadata": {},
   "outputs": [
    {
     "name": "stdout",
     "output_type": "stream",
     "text": [
      "/location/location/contains 75969\n",
      "/people/person/nationality 11444\n",
      "/people/person/place_lived 9827\n",
      "/people/deceased_person/place_of_death 2541\n",
      "/location/country/administrative_divisions 8860\n",
      "/location/neighborhood/neighborhood_of 9472\n",
      "/location/administrative_division/country 8860\n"
     ]
    }
   ],
   "source": [
    "for k,v in dict_existing_class.items():\n",
    "    print(k, len(v))"
   ]
  },
  {
   "cell_type": "code",
   "execution_count": 16,
   "id": "e6942266-b4a3-4187-ae6e-15beeae87a63",
   "metadata": {},
   "outputs": [
    {
     "name": "stdout",
     "output_type": "stream",
     "text": [
      "/location/country/capital 11216\n",
      "/people/person/place_of_birth 4265\n"
     ]
    }
   ],
   "source": [
    "for k,v in dict_emerging_class.items():\n",
    "    print(k, len(v))"
   ]
  },
  {
   "cell_type": "code",
   "execution_count": 17,
   "id": "95dc20f4-e370-40e3-bc61-c686265fe3d3",
   "metadata": {},
   "outputs": [],
   "source": [
    "import pickle\n",
    "\n",
    "with open('data/existing_class_data.pickle', 'wb') as handle:\n",
    "    pickle.dump(dict_existing_class, handle, protocol=pickle.HIGHEST_PROTOCOL)\n",
    "\n",
    "with open('data/emerging_class_data.pickle', 'wb') as handle:\n",
    "    pickle.dump(dict_emerging_class, handle, protocol=pickle.HIGHEST_PROTOCOL)"
   ]
  },
  {
   "cell_type": "code",
   "execution_count": null,
   "id": "378e0aeb-b8ff-4de4-8b6b-521b02af2b64",
   "metadata": {},
   "outputs": [],
   "source": []
  },
  {
   "cell_type": "code",
   "execution_count": null,
   "id": "5c9a08b3-22ba-4253-be0c-9ddad8251a48",
   "metadata": {},
   "outputs": [],
   "source": []
  }
 ],
 "metadata": {
  "kernelspec": {
   "display_name": "Python 3 (ipykernel)",
   "language": "python",
   "name": "python3"
  },
  "language_info": {
   "codemirror_mode": {
    "name": "ipython",
    "version": 3
   },
   "file_extension": ".py",
   "mimetype": "text/x-python",
   "name": "python",
   "nbconvert_exporter": "python",
   "pygments_lexer": "ipython3",
   "version": "3.8.11"
  }
 },
 "nbformat": 4,
 "nbformat_minor": 5
}
